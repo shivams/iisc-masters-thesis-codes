{
 "cells": [
  {
   "cell_type": "code",
   "execution_count": 3,
   "metadata": {
    "collapsed": true
   },
   "outputs": [],
   "source": [
    "##### Initial Notebook Setup ####\n",
    "\n",
    "#Setup so that all output in a cell are printed and not just the last line\n",
    "    #Source: http://stackoverflow.com/questions/36786722/how-to-display-full-output-in-jupyter-not-only-last-result\n",
    "from IPython.core.interactiveshell import InteractiveShell\n",
    "InteractiveShell.ast_node_interactivity = \"all\"\n",
    "\n",
    "#Essential things for SymPy\n",
    "from sympy import *\n",
    "init_printing(use_unicode=True)"
   ]
  },
  {
   "cell_type": "markdown",
   "metadata": {},
   "source": [
    "# Kinematics using SymPy\n",
    "In this notebook, we will discuss various ways to do Kinematics using SymPy.\n",
    "\n",
    "From what I've discovered so far, it seems like there are multiple ways to do Kinematics:\n",
    "\n",
    "* Vectors Module\n",
    "* Physics Module\n",
    "\n",
    "They have many common functionalities. E.g. Physics module doesn't seem to leverage the classes from Vector module, and defines its own classes and methods for Vectors and Coordinate Systems.\n",
    "\n",
    "## Difference b/e Coordinate System Definition in Vector and Physics Modules\n",
    "In Physics module, the primitive concept is of Reference Frame, which is defined without any origin. What matters is the rotation w.r.t. another reference frame. This is a good way of defining, because in Mechanics this is the way a reference frame is defined. Origin doesn't make any sense for a reference frame. It comes into picture when you're talking about Coordinate Axes.\n",
    "\n",
    "Coordinate Axes are the primitive objects in Vector module. They come both with an orientation and a translational part (i.e. origin is defined).\n",
    "\n",
    "## Refs:\n",
    "* https://stackoverflow.com/questions/9492944/sympy-arbitrary-number-of-symbols\n",
    "* https://www.researchgate.net/publication/267490975_Constrained_Multibody_Dynamics_With_Python_From_Symbolic_Equation_Generation_to_Publication"
   ]
  },
  {
   "cell_type": "markdown",
   "metadata": {},
   "source": [
    "# 1. Exploring Physics Module\n",
    "In this section, we will explore the Physics module.\n",
    "\n",
    "Physics module defines its own Vector class **physics.vector**. This class is used by other Physics classes, e.g. by Classical Mechanics, Quantum Mechanics etc."
   ]
  },
  {
   "cell_type": "code",
   "execution_count": 4,
   "metadata": {},
   "outputs": [
    {
     "data": {
      "image/png": "[encoded data removed]",
      "text/latex": [
       "$$e^{x} \\sin{\\left (x \\right )} + e^{x} \\cos{\\left (x \\right )}$$"
      ],
      "text/plain": [
       " x           x       \n",
       "ℯ ⋅sin(x) + ℯ ⋅cos(x)"
      ]
     },
     "execution_count": 4,
     "metadata": {},
     "output_type": "execute_result"
    }
   ],
   "source": [
    "from sympy import *\n",
    "x, t, z, nu = symbols('x t z nu')\n",
    "init_printing(use_unicode=True)\n",
    "diff(sin(x)*exp(x), x)"
   ]
  },
  {
   "cell_type": "code",
   "execution_count": 3,
   "metadata": {},
   "outputs": [
    {
     "data": {
      "image/png": "[encoded data removed]",
      "text/latex": [
       "$$\\mathbf{\\hat{n}_x}$$"
      ],
      "text/plain": [
       "n_x"
      ]
     },
     "execution_count": 3,
     "metadata": {},
     "output_type": "execute_result"
    },
    {
     "data": {
      "image/png": "[encoded data removed]",
      "text/latex": [
       "$$\\frac{\\sqrt{2}}{2}\\mathbf{\\hat{n}_x} + \\frac{\\sqrt{2}}{2}\\mathbf{\\hat{n}_y}$$"
      ],
      "text/plain": [
       "√2       √2\n",
       "── n_x + ── n_y\n",
       "2        2"
      ]
     },
     "execution_count": 3,
     "metadata": {},
     "output_type": "execute_result"
    },
    {
     "data": {
      "image/png": "[encoded data removed]",
      "text/latex": [
       "$$\\left[\\begin{matrix}x\\\\2 x\\\\3 x\\end{matrix}\\right]$$"
      ],
      "text/plain": [
       "⎡ x ⎤\n",
       "⎢   ⎥\n",
       "⎢2⋅x⎥\n",
       "⎢   ⎥\n",
       "⎣3⋅x⎦"
      ]
     },
     "execution_count": 3,
     "metadata": {},
     "output_type": "execute_result"
    }
   ],
   "source": [
    "from sympy.physics.vector import *\n",
    "N = ReferenceFrame('N')\n",
    "N.x\n",
    "(N.x + N.y).normalize()\n",
    "(x * N.x + 2 * x * N.y + 3 * x * N.z).to_matrix(N)"
   ]
  },
  {
   "cell_type": "markdown",
   "metadata": {},
   "source": [
    "## 1.1 Relating 2 Frames\n",
    "In this section, we now introduce a new frame and relate it to the previous one. This allows us to explore DCMs, Euler Angles, Quaternions and such."
   ]
  },
  {
   "cell_type": "code",
   "execution_count": 4,
   "metadata": {
    "collapsed": true
   },
   "outputs": [],
   "source": [
    "A = ReferenceFrame('A')\n",
    "A.orient(N, 'Axis', [x, N.y])"
   ]
  },
  {
   "cell_type": "markdown",
   "metadata": {},
   "source": [
    "# 2. Vector Module\n",
    "\n",
    "http://docs.sympy.org/latest/modules/vector/basics.html"
   ]
  },
  {
   "cell_type": "code",
   "execution_count": 7,
   "metadata": {},
   "outputs": [
    {
     "data": {
      "text/plain": [
       "sympy.vector.vector.VectorAdd"
      ]
     },
     "execution_count": 7,
     "metadata": {},
     "output_type": "execute_result"
    },
    {
     "data": {
      "image/png": "[encoded data removed]",
      "text/latex": [
       "$$\\left [ 1, \\quad 1\\right ]$$"
      ],
      "text/plain": [
       "[1, 1]"
      ]
     },
     "execution_count": 7,
     "metadata": {},
     "output_type": "execute_result"
    },
    {
     "data": {
      "text/plain": [
       "sympy.vector.point.Point"
      ]
     },
     "execution_count": 7,
     "metadata": {},
     "output_type": "execute_result"
    },
    {
     "data": {
      "image/png": "[encoded data removed]",
      "text/latex": [
       "$$(2)\\mathbf{\\hat{i}_{N}} + (3)\\mathbf{\\hat{j}_{N}}$$"
      ],
      "text/plain": [
       "(2) N_i + (3) N_j"
      ]
     },
     "execution_count": 7,
     "metadata": {},
     "output_type": "execute_result"
    },
    {
     "data": {
      "image/png": "[encoded data removed]",
      "text/latex": [
       "$$(2)\\mathbf{\\hat{i}_{N}} + (3)\\mathbf{\\hat{j}_{N}}$$"
      ],
      "text/plain": [
       "(2) N_i + (3) N_j"
      ]
     },
     "execution_count": 7,
     "metadata": {},
     "output_type": "execute_result"
    },
    {
     "data": {
      "image/png": "[encoded data removed]",
      "text/latex": [
       "$$\\left ( 2, \\quad 3, \\quad 0\\right )$$"
      ],
      "text/plain": [
       "(2, 3, 0)"
      ]
     },
     "execution_count": 7,
     "metadata": {},
     "output_type": "execute_result"
    }
   ],
   "source": [
    "from sympy.vector import CoordSys3D\n",
    "N = CoordSys3D('N')\n",
    "v1 = N.i + N.k\n",
    "type(v1) #This is essentially a vector (it will show this to be a sub-class by the name VectorAdd)\n",
    "list(v1.components.values())\n",
    "\n",
    "\n",
    "#Introducing Points\n",
    "type(N.origin)\n",
    "P = N.origin.locate_new('P', 2*N.i)\n",
    "Q = P.locate_new('Q', 3*N.j)\n",
    "Q.position_wrt(N.origin)\n",
    "Q.position_wrt(N)\n",
    "Q.express_coordinates(N) #Express coords in the reference frame N"
   ]
  },
  {
   "cell_type": "code",
   "execution_count": 8,
   "metadata": {},
   "outputs": [
    {
     "data": {
      "image/png": "[encoded data removed]",
      "text/latex": [
       "$$(a + 2 b + c)\\mathbf{\\hat{i}_{N}} + \\mathbf{\\hat{j}_{N}}$$"
      ],
      "text/plain": [
       "(a + 2⋅b + c) N_i + N_j"
      ]
     },
     "execution_count": 8,
     "metadata": {},
     "output_type": "execute_result"
    }
   ],
   "source": [
    "#Some operations that we can do with Vectors\n",
    "from sympy.abc import a,b,c, theta #Helps to quickly define a lot of symbols\n",
    "v = (a*b + a*c + b**2 + b*c)*N.i + b*N.j\n",
    "diff(v,b)"
   ]
  },
  {
   "cell_type": "code",
   "execution_count": 9,
   "metadata": {},
   "outputs": [
    {
     "data": {
      "image/png": "[encoded data removed]",
      "text/latex": [
       "$$\\left[\\begin{matrix}\\cos{\\left (a \\right )} & \\sin{\\left (a \\right )} & 0\\\\- \\sin{\\left (a \\right )} & \\cos{\\left (a \\right )} & 0\\\\0 & 0 & 1\\end{matrix}\\right]$$"
      ],
      "text/plain": [
       "⎡cos(a)   sin(a)  0⎤\n",
       "⎢                  ⎥\n",
       "⎢-sin(a)  cos(a)  0⎥\n",
       "⎢                  ⎥\n",
       "⎣   0       0     1⎦"
      ]
     },
     "execution_count": 9,
     "metadata": {},
     "output_type": "execute_result"
    }
   ],
   "source": [
    "#Defining (Locating and Orienting) new coordinate systems w.r.t. a given one\n",
    "A = N.orient_new_axis('C', a, N.k, location=2*N.j) #Rotated by 'a' radians in N.k direction\n",
    "A.rotation_matrix(N)\n",
    "\n",
    "#Using orienters to define orientation\n",
    "#BodyOrienter ==> Body Fixed Angles (Euler and such)\n",
    "#SpaceOrienter ==> Ground Fixed Angles (won't be using this)\n",
    "from sympy.vector import AxisOrienter, BodyOrienter, SpaceOrienter\n",
    "axis_orienter = AxisOrienter(theta, A.k)\n",
    "body_orienter = BodyOrienter(a, b, c, 'XYZ')\n",
    "B = A.orient_new('B', axis_orienter)\n",
    "C = B.orient_new('C', body_orienter)\n",
    "\n",
    "#C.rotation_matrix(B)\n",
    "#C.rotation_matrix(N)"
   ]
  },
  {
   "cell_type": "markdown",
   "metadata": {},
   "source": [
    "# Bennett Mechanism Analysis\n",
    "\n",
    "Now, we proceed towards doing the forward kinematics of the Bennett Mechanism symbolically using our custom SymPy Quaternion module."
   ]
  },
  {
   "cell_type": "code",
   "execution_count": 13,
   "metadata": {
    "collapsed": true
   },
   "outputs": [],
   "source": [
    "from sympy.abc import alpha, beta, a, b, c, d\n",
    "from sympy import *\n",
    "from sympy_quaternions import *\n",
    "from sympy.vector import *\n",
    "\n",
    "#Bennet Setup\n",
    "n = 4 #Number of links/joints in the mechanism\n",
    "a = 1\n",
    "alpha = pi/8\n",
    "#Inputting DH-parameters for this mechanism in the format (alpha, a, d). Theta is the variable and hence is not provided\n",
    "dhp = ((alpha, a, 0), (-alpha, a, 0), (alpha, a, 0), (-alpha, a, 0))\n",
    "ALPHA = (alpha, -alpha, alpha, -alpha)\n",
    "A = (a, a, a, a)\n",
    "THETA = list(symbols('theta0:' + str(n)))\n",
    "X, Y, Z = symbols('X0:' + str(n)), symbols('Y0:' + str(n)), symbols('Z0:' + str(n))\n",
    "\n",
    "#Initial Condition for FWD Kinematics\n",
    "THETA[0] = pi/2\n",
    "\n",
    "#Begin 3D Transformation Operations\n",
    "#from sympy.vector import CoordSys3D, QuaternionOrienter\n",
    "#def q_orienter(angle=alpha, axis=(1,0,0)):\n",
    "#    q0, q1, q2, q3 = quat_around_axis(angle, axis)\n",
    "#    return QuaternionOrienter(q0, q1, q2, q3)\n",
    "#N1 = CoordSys3D('N1')\n",
    "#D = N1.orient_new('D', (q_orienter(THETA[0], axis=(1,0,0)),\\\n",
    "#                        q_orienter(THETA[1], axis=(0,1,0)),\\\n",
    "#                        q_orienter(THETA[2], axis=(0,0,1)), ))\n",
    "#simplify(D.rotation_matrix(N1))\n",
    "\n",
    "#Quaternion Composition for Rotation Loop-closure Equations\n",
    "angle = pi/2\n",
    "Q = [] #list of quaternions\n",
    "for i in range(n):\n",
    "    Q.append(quat_around_axis(ALPHA[i], (1, 0, 0)))\n",
    "    Q.append(quat_around_axis(THETA[i], (0, 0, 1)))\n",
    "    \n",
    "q = qmult_many(Q) #Body-fixed rotation composition\n",
    "#simplify(q)\n",
    "#q = simplify(q)\n",
    "equations = qoperate(q, (1,0,0,0), \"-\")\n",
    "\n",
    "#Axes Transformation for Vector Loop-closure Equations\n",
    "O = CoordSys3D('O')\n",
    "B = O.orient_new_axis('B', 0, O.k) #Initiate body-frame 'B' by replicating space-frame 'O'\n",
    "for i in range(n):\n",
    "    body_orienter = BodyOrienter(ALPHA[i], THETA[i], 0, 'XZX')\n",
    "    #Following line can be used to test. It should come back to O.origin if given 4 consecutive pi/2 rotations\n",
    "    #body_orienter = BodyOrienter(0, pi/2, 0, 'XZX')\n",
    "    B = B.orient_new('B', (body_orienter, ), location=A[i]*B.i)\n",
    "\n",
    "#express(B.position_wrt(O), O)\n",
    "v = B.origin.express_coordinates(O)\n",
    "equations = equations + v #Final set equations is Ready"
   ]
  },
  {
   "cell_type": "code",
   "execution_count": null,
   "metadata": {
    "collapsed": true
   },
   "outputs": [],
   "source": [
    "#THETA[1:]\n",
    "solve(equations, THETA[1:])"
   ]
  },
  {
   "cell_type": "code",
   "execution_count": null,
   "metadata": {
    "collapsed": true
   },
   "outputs": [],
   "source": [
    "from sympy.abc import x,y,z\n",
    "solve((x+y-1, x-2), (x,y))"
   ]
  },
  {
   "cell_type": "code",
   "execution_count": 37,
   "metadata": {},
   "outputs": [
    {
     "data": {
      "image/png": "[encoded data removed]",
      "text/latex": [
       "$$X^{1}_{a}$$"
      ],
      "text/plain": [
       "X¹ₐ"
      ]
     },
     "execution_count": 37,
     "metadata": {},
     "output_type": "execute_result"
    },
    {
     "data": {
      "image/png": "[encoded data removed]",
      "text/latex": [
       "$$\\left[\\begin{matrix}1 & 0 & 0\\\\0 & 0 & 1\\\\0 & -1 & 0\\end{matrix}\\right]$$"
      ],
      "text/plain": [
       "⎡1  0   0⎤\n",
       "⎢        ⎥\n",
       "⎢0  0   1⎥\n",
       "⎢        ⎥\n",
       "⎣0  -1  0⎦"
      ]
     },
     "execution_count": 37,
     "metadata": {},
     "output_type": "execute_result"
    },
    {
     "data": {
      "image/png": "[encoded data removed]",
      "text/latex": [
       "$$\\left[\\begin{matrix}1 & 0 & 0\\\\0 & -1 & 0\\\\0 & 0 & -1\\end{matrix}\\right]$$"
      ],
      "text/plain": [
       "⎡1  0   0 ⎤\n",
       "⎢         ⎥\n",
       "⎢0  -1  0 ⎥\n",
       "⎢         ⎥\n",
       "⎣0  0   -1⎦"
      ]
     },
     "execution_count": 37,
     "metadata": {},
     "output_type": "execute_result"
    },
    {
     "data": {
      "image/png": "[encoded data removed]",
      "text/latex": [
       "$$\\left[\\begin{matrix}1 & 0 & 0\\\\0 & 1 & 0\\\\0 & 0 & 1\\end{matrix}\\right]$$"
      ],
      "text/plain": [
       "⎡1  0  0⎤\n",
       "⎢       ⎥\n",
       "⎢0  1  0⎥\n",
       "⎢       ⎥\n",
       "⎣0  0  1⎦"
      ]
     },
     "execution_count": 37,
     "metadata": {},
     "output_type": "execute_result"
    }
   ],
   "source": [
    "symbols('X_a^1')\n",
    "N = CoordSys3D('N')\n",
    "M = N.orient_new_axis('M', pi/2, N.i)\n",
    "M.rotation_matrix(N)\n",
    "body_orienter = BodyOrienter(pi/2, 0, 0, 'XZX')\n",
    "M = M.orient_new('M', (body_orienter, ))\n",
    "M.rotation_matrix(N)\n",
    "G = N.orient_new_axis('G', 0, N.k)\n",
    "G.rotation_matrix(N)"
   ]
  },
  {
   "cell_type": "markdown",
   "metadata": {},
   "source": [
    "# Quaternions and such\n",
    "\n",
    "Transformations for Euler-Anglers, Rotation Matrices, Quaternions, Angle-Axis etc.\n",
    "\n",
    "### Refs:\n",
    "* https://github.com/matthew-brett/transforms3d/tree/master/transforms3d/derivations"
   ]
  },
  {
   "cell_type": "code",
   "execution_count": 13,
   "metadata": {},
   "outputs": [
    {
     "data": {
      "image/png": "[encoded data removed]",
      "text/latex": [
       "$$\\left ( 1, \\quad 0, \\quad 0, \\quad 0\\right )$$"
      ],
      "text/plain": [
       "(1, 0, 0, 0)"
      ]
     },
     "execution_count": 13,
     "metadata": {},
     "output_type": "execute_result"
    },
    {
     "data": {
      "image/png": "[encoded data removed]",
      "text/latex": [
       "$$\\left ( 1, \\quad 0, \\quad 0, \\quad 0\\right )$$"
      ],
      "text/plain": [
       "(1, 0, 0, 0)"
      ]
     },
     "execution_count": 13,
     "metadata": {},
     "output_type": "execute_result"
    }
   ],
   "source": [
    "from sympy import *\n",
    "from sympy_quaternions import *\n",
    "from sympy.abc import alpha, beta, a, b, c, d\n",
    "\n",
    "q1 = quat_around_axis(beta, (1,0,0))\n",
    "q2 = quat_around_axis(beta, (0,1,0))\n",
    "a = quat2mat(q1)\n",
    "b = quat2axis(q1)\n",
    "\n",
    "angle = pi/2\n",
    "q3 = quat_around_axis(angle, (1, 0, 0))\n",
    "q4 = quat_around_axis(angle, (0, 1, 0))\n",
    "q5 = quat_around_axis(angle, (0, 0, 1))\n",
    "q6 = quat_around_axis(angle, (0, -1, 0))\n",
    "Q = (q6, q5, q4, q3) #Space-fixed rotation\n",
    "q = qmult_many(Q)\n",
    "\n",
    "q\n",
    "#Now, we solve the equation q = (1,0,0,0), i.e. net rotation is zero\n",
    "equations = qoperate(q, (1,0,0,0), \"-\")\n",
    "#solve(equations, (beta))\n",
    "\n",
    "q3 = quat_around_axis(angle, (1, 0, 0))\n",
    "q4 = quat_around_axis(angle, (0, 1, 0))\n",
    "q5 = quat_around_axis(angle, (-1, 0, 0))\n",
    "q6 = quat_around_axis(angle, (0, 0, -1))\n",
    "Q = (q3, q4, q5, q6) #Body-fixed rotation\n",
    "q = qmult_many(Q)\n",
    "q\n"
   ]
  },
  {
   "cell_type": "markdown",
   "metadata": {},
   "source": [
    "# Exploring Solvers\n",
    "\n",
    "Especially the under-determined equations solvers."
   ]
  },
  {
   "cell_type": "code",
   "execution_count": 12,
   "metadata": {},
   "outputs": [
    {
     "data": {
      "image/png": "[encoded data removed]",
      "text/latex": [
       "$$\\left\\{\\left ( - \\frac{1}{4 \\left(z - 1\\right)} \\left(- \\frac{1}{2} \\sqrt{- 16 z^{2} + 32 z + 9} - \\frac{5}{2}\\right) \\sqrt{- \\frac{1}{2} \\sqrt{- 16 z^{2} + 32 z + 9} + \\frac{5}{2}}, \\quad - \\sqrt{- \\frac{1}{2} \\sqrt{- 16 z^{2} + 32 z + 9} + \\frac{5}{2}}\\right ), \\left ( \\frac{1}{4 \\left(z - 1\\right)} \\left(- \\frac{1}{2} \\sqrt{- 16 z^{2} + 32 z + 9} - \\frac{5}{2}\\right) \\sqrt{- \\frac{1}{2} \\sqrt{- 16 z^{2} + 32 z + 9} + \\frac{5}{2}}, \\quad \\sqrt{- \\frac{1}{2} \\sqrt{- 16 z^{2} + 32 z + 9} + \\frac{5}{2}}\\right ), \\left ( - \\frac{1}{4 \\left(z - 1\\right)} \\left(\\frac{1}{2} \\sqrt{- 16 z^{2} + 32 z + 9} - \\frac{5}{2}\\right) \\sqrt{\\frac{1}{2} \\sqrt{- 16 z^{2} + 32 z + 9} + \\frac{5}{2}}, \\quad - \\sqrt{\\frac{1}{2} \\sqrt{- 16 z^{2} + 32 z + 9} + \\frac{5}{2}}\\right ), \\left ( \\frac{1}{4 \\left(z - 1\\right)} \\left(\\frac{1}{2} \\sqrt{- 16 z^{2} + 32 z + 9} - \\frac{5}{2}\\right) \\sqrt{\\frac{1}{2} \\sqrt{- 16 z^{2} + 32 z + 9} + \\frac{5}{2}}, \\quad \\sqrt{\\frac{1}{2} \\sqrt{- 16 z^{2} + 32 z + 9} + \\frac{5}{2}}\\right )\\right\\}$$"
      ],
      "text/plain": [
       "⎧⎛                                       _______________________________      \n",
       "⎪⎜ ⎛     ____________________    ⎞      ╱      ____________________           \n",
       "⎪⎜ ⎜    ╱       2                ⎟     ╱      ╱       2                       \n",
       "⎪⎜ ⎜  ╲╱  - 16⋅z  + 32⋅z + 9    5⎟    ╱     ╲╱  - 16⋅z  + 32⋅z + 9    5       \n",
       "⎨⎜-⎜- ─────────────────────── - ─⎟⋅  ╱    - ─────────────────────── + ─       \n",
       "⎪⎜ ⎝             2              2⎠ ╲╱                  2              2       \n",
       "⎪⎜───────────────────────────────────────────────────────────────────────, -  \n",
       "⎪⎝                               4⋅(z - 1)                                  ╲╱\n",
       "⎩                                                                             \n",
       "\n",
       "                                   ⎞  ⎛                                      _\n",
       "                                   ⎟  ⎜⎛     ____________________    ⎞      ╱ \n",
       "    _______________________________⎟  ⎜⎜    ╱       2                ⎟     ╱  \n",
       "   ╱      ____________________     ⎟  ⎜⎜  ╲╱  - 16⋅z  + 32⋅z + 9    5⎟    ╱   \n",
       "  ╱      ╱       2                 ⎟  ⎜⎜- ─────────────────────── - ─⎟⋅  ╱    \n",
       " ╱     ╲╱  - 16⋅z  + 32⋅z + 9    5 ⎟  ⎜⎝             2              2⎠ ╲╱     \n",
       "╱    - ─────────────────────── + ─ ⎟, ⎜───────────────────────────────────────\n",
       "                  2              2 ⎠  ⎝                              4⋅(z - 1)\n",
       "                                                                              \n",
       "\n",
       "______________________________                                       ⎞  ⎛     \n",
       "     ____________________                                            ⎟  ⎜ ⎛   \n",
       "    ╱       2                         _______________________________⎟  ⎜ ⎜  ╱\n",
       "  ╲╱  - 16⋅z  + 32⋅z + 9    5        ╱      ____________________     ⎟  ⎜ ⎜╲╱ \n",
       "- ─────────────────────── + ─       ╱      ╱       2                 ⎟  ⎜-⎜───\n",
       "             2              2      ╱     ╲╱  - 16⋅z  + 32⋅z + 9    5 ⎟  ⎜ ⎝   \n",
       "──────────────────────────────,   ╱    - ─────────────────────── + ─ ⎟, ⎜─────\n",
       "                                ╲╱                  2              2 ⎠  ⎝     \n",
       "                                                                              \n",
       "\n",
       "                                _____________________________                 \n",
       "____________________    ⎞      ╱    ____________________                      \n",
       "       2                ⎟     ╱    ╱       2                           _______\n",
       " - 16⋅z  + 32⋅z + 9    5⎟    ╱   ╲╱  - 16⋅z  + 32⋅z + 9    5          ╱    ___\n",
       "──────────────────── - ─⎟⋅  ╱    ─────────────────────── + ─         ╱    ╱   \n",
       "        2              2⎠ ╲╱                2              2        ╱   ╲╱  - \n",
       "──────────────────────────────────────────────────────────────, -  ╱    ──────\n",
       "                        4⋅(z - 1)                                ╲╱           \n",
       "                                                                              \n",
       "\n",
       "                      ⎞  ⎛                                    ________________\n",
       "                      ⎟  ⎜⎛   ____________________    ⎞      ╱    ____________\n",
       "______________________⎟  ⎜⎜  ╱       2                ⎟     ╱    ╱       2    \n",
       "_________________     ⎟  ⎜⎜╲╱  - 16⋅z  + 32⋅z + 9    5⎟    ╱   ╲╱  - 16⋅z  + 3\n",
       "    2                 ⎟  ⎜⎜─────────────────────── - ─⎟⋅  ╱    ───────────────\n",
       "16⋅z  + 32⋅z + 9    5 ⎟  ⎜⎝           2              2⎠ ╲╱                2   \n",
       "───────────────── + ─ ⎟, ⎜────────────────────────────────────────────────────\n",
       "     2              2 ⎠  ⎝                            4⋅(z - 1)               \n",
       "                                                                              \n",
       "\n",
       "_____________                                     ⎞⎫\n",
       "________                                          ⎟⎪\n",
       "                     _____________________________⎟⎪\n",
       "2⋅z + 9    5        ╱    ____________________     ⎟⎪\n",
       "──────── + ─       ╱    ╱       2                 ⎟⎬\n",
       "           2      ╱   ╲╱  - 16⋅z  + 32⋅z + 9    5 ⎟⎪\n",
       "─────────────,   ╱    ─────────────────────── + ─ ⎟⎪\n",
       "               ╲╱                2              2 ⎠⎪\n",
       "                                                   ⎭"
      ]
     },
     "execution_count": 12,
     "metadata": {},
     "output_type": "execute_result"
    }
   ],
   "source": [
    "from sympy.core.symbol import symbols\n",
    "from sympy.solvers.solveset import nonlinsolve\n",
    "x, y, z = symbols('x, y, z', real=True)\n",
    "nonlinsolve([x*y + z - 1, 4*x**2 + y**2 - 5], [x, y])\n"
   ]
  },
  {
   "cell_type": "code",
   "execution_count": null,
   "metadata": {
    "collapsed": true
   },
   "outputs": [],
   "source": []
  }
 ],
 "metadata": {
  "kernelspec": {
   "display_name": "Python 3",
   "language": "python",
   "name": "python3"
  },
  "language_info": {
   "codemirror_mode": {
    "name": "ipython",
    "version": 3
   },
   "file_extension": ".py",
   "mimetype": "text/x-python",
   "name": "python",
   "nbconvert_exporter": "python",
   "pygments_lexer": "ipython3",
   "version": "3.7.7"
  }
 },
 "nbformat": 4,
 "nbformat_minor": 2
}
