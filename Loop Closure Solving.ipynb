{
 "cells": [
  {
   "cell_type": "markdown",
   "metadata": {},
   "source": [
    "# About this notebook\n",
    "\n",
    "In this notebook, we solve the loop closure equation numerically using `fsolve`."
   ]
  },
  {
   "cell_type": "code",
   "execution_count": 11,
   "metadata": {},
   "outputs": [],
   "source": [
    "##### Initial Notebook Setup ####\n",
    "\n",
    "#Setup so that all output in a cell are printed and not just the last line\n",
    "    #Source: http://stackoverflow.com/questions/36786722/how-to-display-full-output-in-jupyter-not-only-last-result\n",
    "from IPython.core.interactiveshell import InteractiveShell\n",
    "InteractiveShell.ast_node_interactivity = \"all\"\n",
    "\n",
    "#Essential things for SymPy\n",
    "#from sympy import *\n",
    "#from sympy.abc import *\n",
    "#init_printing(use_unicode=True)"
   ]
  },
  {
   "cell_type": "code",
   "execution_count": null,
   "metadata": {},
   "outputs": [],
   "source": [
    "THETA = list(symbols('theta1:' + str(6)));\n",
    "THETA[0] = pi/2;\n",
    "alpha = pi/4;\n",
    "\n",
    "a = tan(THETA[1]/2) - tan(THETA[2]/2)*sin(pi/4 + alpha/2)/sin(pi/4-alpha/2);\n",
    "b = tan(THETA[3]/2)*tan(THETA[4]/2) - sin(pi/4 + alpha/2)/sin(pi/4-alpha/2);\n",
    "c = THETA[1] + THETA[4] - 2*pi;\n",
    "d = THETA[0] + THETA[2] + THETA[3] - 2*pi;"
   ]
  },
  {
   "cell_type": "code",
   "execution_count": null,
   "metadata": {},
   "outputs": [],
   "source": [
    "a\n",
    "b\n",
    "c\n",
    "d"
   ]
  },
  {
   "cell_type": "code",
   "execution_count": null,
   "metadata": {},
   "outputs": [],
   "source": [
    "from sympy import *\n",
    "#N(pi)\n",
    "solve((a,b,c,d), THETA[1:])"
   ]
  },
  {
   "cell_type": "code",
   "execution_count": 31,
   "metadata": {},
   "outputs": [
    {
     "data": {
      "text/plain": [
       "array([  90.,   45.,  225.,  270.])"
      ]
     },
     "execution_count": 31,
     "metadata": {},
     "output_type": "execute_result"
    },
    {
     "data": {
      "text/plain": [
       "array([-270.,   45.,  225.,  630.])"
      ]
     },
     "execution_count": 31,
     "metadata": {},
     "output_type": "execute_result"
    },
    {
     "data": {
      "text/plain": [
       "array([  90.00007228,   45.0000367 ,  224.999963  ,  269.99993744])"
      ]
     },
     "execution_count": 31,
     "metadata": {},
     "output_type": "execute_result"
    }
   ],
   "source": [
    "from scipy import *\n",
    "from scipy.optimize import fsolve\n",
    "from math import *\n",
    "import numpy as np\n",
    "\n",
    "t1 = pi/2\n",
    "alpha = pi/4\n",
    "\n",
    "def equations(p):\n",
    "    t2, t3, t4, t5 = p\n",
    "    a = tan(t2/2) - tan(t3/2)*sin(pi/4 + alpha/2)/sin(pi/4-alpha/2);\n",
    "    b = tan(t4/2)*tan(t5/2) - sin(pi/4 + alpha/2)/sin(pi/4-alpha/2);\n",
    "    c = t2 + t5 - 2*pi;\n",
    "    d = t1 + t3 + t4 - 2*pi;\n",
    "    #a = t1 + t2 + t3 + t4 + t5 - 5\n",
    "    #b = t2*t3 - 1\n",
    "    #c = t4*t3 - 1\n",
    "    #d = t5*t3 - 1\n",
    "    return (a, b, c, d)\n",
    "\n",
    "t2, t3, t4, t5 =  fsolve(equations, (1, 1, 1, 1))\n",
    "np.degrees((t2, t3, t4, t5))\n",
    "t2, t3, t4, t5 =  fsolve(equations, (0.5,0.5,0.5,0.5))\n",
    "np.degrees((t2, t3, t4, t5))\n",
    "\n",
    "t2, t3, t4, t5 =  scipy.optimize.broyden2(equations, (1,1,1,1))\n",
    "np.degrees((t2, t3, t4, t5))"
   ]
  },
  {
   "cell_type": "code",
   "execution_count": null,
   "metadata": {
    "collapsed": true
   },
   "outputs": [],
   "source": []
  }
 ],
 "metadata": {
  "kernelspec": {
   "display_name": "Python 3",
   "language": "python",
   "name": "python3"
  },
  "language_info": {
   "codemirror_mode": {
    "name": "ipython",
    "version": 3
   },
   "file_extension": ".py",
   "mimetype": "text/x-python",
   "name": "python",
   "nbconvert_exporter": "python",
   "pygments_lexer": "ipython3",
   "version": "3.7.7"
  }
 },
 "nbformat": 4,
 "nbformat_minor": 2
}
